{
  "nbformat": 4,
  "nbformat_minor": 0,
  "metadata": {
    "colab": {
      "name": "knn",
      "provenance": [],
      "authorship_tag": "ABX9TyNc8Ec/6OJxkTk4oLrB3WHC",
      "include_colab_link": true
    },
    "kernelspec": {
      "name": "python3",
      "display_name": "Python 3"
    }
  },
  "cells": [
    {
      "cell_type": "markdown",
      "metadata": {
        "id": "view-in-github",
        "colab_type": "text"
      },
      "source": [
        "<a href=\"https://colab.research.google.com/github/19PA1A0466/IPS/blob/master/knn.ipynb\" target=\"_parent\"><img src=\"https://colab.research.google.com/assets/colab-badge.svg\" alt=\"Open In Colab\"/></a>"
      ]
    },
    {
      "cell_type": "code",
      "metadata": {
        "id": "jOFu-9X84fOt",
        "colab_type": "code",
        "colab": {}
      },
      "source": [
        "import pandas as pd \n",
        "from sklearn.neighbors import KNeighborsRegressor \n",
        "from sklearn.model_selection import train_test_split \n",
        "from sklearn import metrics"
      ],
      "execution_count": 0,
      "outputs": []
    },
    {
      "cell_type": "code",
      "metadata": {
        "id": "3a1NgPIC4zJ7",
        "colab_type": "code",
        "colab": {}
      },
      "source": [
        "knn=pd.read_csv('students_placement_data.csv')"
      ],
      "execution_count": 0,
      "outputs": []
    },
    {
      "cell_type": "code",
      "metadata": {
        "id": "ybMuEK4N5XFd",
        "colab_type": "code",
        "outputId": "8869a16a-a9d3-45c9-ff6c-2de75d3f2b34",
        "colab": {
          "base_uri": "https://localhost:8080/",
          "height": 251
        }
      },
      "source": [
        "print(knn)"
      ],
      "execution_count": 0,
      "outputs": [
        {
          "output_type": "stream",
          "text": [
            "     Roll No Gender  ... registered_for_ Placement_Training  placement status\n",
            "0          1      M  ...                                 NO        Not placed\n",
            "1          2      F  ...                                yes            Placed\n",
            "2          3      F  ...                                yes        Not placed\n",
            "3          4      M  ...                                yes        Not placed\n",
            "4          5      M  ...                                yes        Not placed\n",
            "..       ...    ...  ...                                ...               ...\n",
            "112      113      M  ...                                 NO        Not placed\n",
            "113      114      M  ...                                 NO        Not placed\n",
            "114      115      M  ...                                 NO        Not placed\n",
            "115      116      M  ...                                 NO        Not placed\n",
            "116      117      M  ...                                 NO        Not placed\n",
            "\n",
            "[117 rows x 9 columns]\n"
          ],
          "name": "stdout"
        }
      ]
    },
    {
      "cell_type": "code",
      "metadata": {
        "id": "kquxz2d18AYt",
        "colab_type": "code",
        "outputId": "d6d82ca8-14d4-42f8-b38a-1650753dbace",
        "colab": {
          "base_uri": "https://localhost:8080/",
          "height": 213
        }
      },
      "source": [
        "knn.head()"
      ],
      "execution_count": 0,
      "outputs": [
        {
          "output_type": "execute_result",
          "data": {
            "text/html": [
              "<div>\n",
              "<style scoped>\n",
              "    .dataframe tbody tr th:only-of-type {\n",
              "        vertical-align: middle;\n",
              "    }\n",
              "\n",
              "    .dataframe tbody tr th {\n",
              "        vertical-align: top;\n",
              "    }\n",
              "\n",
              "    .dataframe thead th {\n",
              "        text-align: right;\n",
              "    }\n",
              "</style>\n",
              "<table border=\"1\" class=\"dataframe\">\n",
              "  <thead>\n",
              "    <tr style=\"text-align: right;\">\n",
              "      <th></th>\n",
              "      <th>Roll No</th>\n",
              "      <th>Gender</th>\n",
              "      <th>Section</th>\n",
              "      <th>SSC Percentage</th>\n",
              "      <th>inter_Diploma_percentage</th>\n",
              "      <th>B.Tech_percentage</th>\n",
              "      <th>Backlogs</th>\n",
              "      <th>registered_for_ Placement_Training</th>\n",
              "      <th>placement status</th>\n",
              "    </tr>\n",
              "  </thead>\n",
              "  <tbody>\n",
              "    <tr>\n",
              "      <th>0</th>\n",
              "      <td>1</td>\n",
              "      <td>M</td>\n",
              "      <td>A</td>\n",
              "      <td>87.3</td>\n",
              "      <td>65.3</td>\n",
              "      <td>40.00</td>\n",
              "      <td>18</td>\n",
              "      <td>NO</td>\n",
              "      <td>Not placed</td>\n",
              "    </tr>\n",
              "    <tr>\n",
              "      <th>1</th>\n",
              "      <td>2</td>\n",
              "      <td>F</td>\n",
              "      <td>A</td>\n",
              "      <td>89.0</td>\n",
              "      <td>92.4</td>\n",
              "      <td>71.45</td>\n",
              "      <td>0</td>\n",
              "      <td>yes</td>\n",
              "      <td>Placed</td>\n",
              "    </tr>\n",
              "    <tr>\n",
              "      <th>2</th>\n",
              "      <td>3</td>\n",
              "      <td>F</td>\n",
              "      <td>A</td>\n",
              "      <td>67.0</td>\n",
              "      <td>68.0</td>\n",
              "      <td>45.26</td>\n",
              "      <td>13</td>\n",
              "      <td>yes</td>\n",
              "      <td>Not placed</td>\n",
              "    </tr>\n",
              "    <tr>\n",
              "      <th>3</th>\n",
              "      <td>4</td>\n",
              "      <td>M</td>\n",
              "      <td>A</td>\n",
              "      <td>71.0</td>\n",
              "      <td>70.4</td>\n",
              "      <td>36.47</td>\n",
              "      <td>17</td>\n",
              "      <td>yes</td>\n",
              "      <td>Not placed</td>\n",
              "    </tr>\n",
              "    <tr>\n",
              "      <th>4</th>\n",
              "      <td>5</td>\n",
              "      <td>M</td>\n",
              "      <td>A</td>\n",
              "      <td>67.0</td>\n",
              "      <td>65.5</td>\n",
              "      <td>42.52</td>\n",
              "      <td>17</td>\n",
              "      <td>yes</td>\n",
              "      <td>Not placed</td>\n",
              "    </tr>\n",
              "  </tbody>\n",
              "</table>\n",
              "</div>"
            ],
            "text/plain": [
              "   Roll No Gender  ... registered_for_ Placement_Training  placement status\n",
              "0        1      M  ...                                 NO        Not placed\n",
              "1        2      F  ...                                yes            Placed\n",
              "2        3      F  ...                                yes        Not placed\n",
              "3        4      M  ...                                yes        Not placed\n",
              "4        5      M  ...                                yes        Not placed\n",
              "\n",
              "[5 rows x 9 columns]"
            ]
          },
          "metadata": {
            "tags": []
          },
          "execution_count": 8
        }
      ]
    },
    {
      "cell_type": "code",
      "metadata": {
        "id": "oepxZh8D8g-O",
        "colab_type": "code",
        "outputId": "ad4a171b-919d-4d8b-e415-eb30a8e7be58",
        "colab": {
          "base_uri": "https://localhost:8080/",
          "height": 33
        }
      },
      "source": [
        "X=knn[['SSC Percentage','inter_Diploma_percentage']] \n",
        "y=knn['B.Tech_percentage'] \n",
        "type(y)"
      ],
      "execution_count": 0,
      "outputs": [
        {
          "output_type": "execute_result",
          "data": {
            "text/plain": [
              "pandas.core.series.Series"
            ]
          },
          "metadata": {
            "tags": []
          },
          "execution_count": 9
        }
      ]
    },
    {
      "cell_type": "code",
      "metadata": {
        "id": "tCUeUmUf-D2J",
        "colab_type": "code",
        "colab": {}
      },
      "source": [
        "X_train, X_test, y_train, y_test = train_test_split(X, y, test_size=0.2, random_state=0)"
      ],
      "execution_count": 0,
      "outputs": []
    },
    {
      "cell_type": "code",
      "metadata": {
        "id": "WPV8iZfe-Nkk",
        "colab_type": "code",
        "colab": {}
      },
      "source": [
        "model = KNeighborsRegressor(n_neighbors=2,p=1)"
      ],
      "execution_count": 0,
      "outputs": []
    },
    {
      "cell_type": "code",
      "metadata": {
        "id": "6IvfrXpB-fk5",
        "colab_type": "code",
        "outputId": "6d4d6bbf-5d5d-40d3-8015-31d2039d78cf",
        "colab": {
          "base_uri": "https://localhost:8080/",
          "height": 67
        }
      },
      "source": [
        "model.fit(X_train,y_train)"
      ],
      "execution_count": 0,
      "outputs": [
        {
          "output_type": "execute_result",
          "data": {
            "text/plain": [
              "KNeighborsRegressor(algorithm='auto', leaf_size=30, metric='minkowski',\n",
              "                    metric_params=None, n_jobs=None, n_neighbors=2, p=1,\n",
              "                    weights='uniform')"
            ]
          },
          "metadata": {
            "tags": []
          },
          "execution_count": 13
        }
      ]
    },
    {
      "cell_type": "code",
      "metadata": {
        "id": "qC96Ps1y_RaV",
        "colab_type": "code",
        "outputId": "f035ceeb-a0a4-42f9-8415-d4fb26b37713",
        "colab": {
          "base_uri": "https://localhost:8080/",
          "height": 421
        }
      },
      "source": [
        "knn=knn.rename(columns={\"B.Tech_percentage\":\"B.Tech\"\t}) \n",
        "knn\n"
      ],
      "execution_count": 0,
      "outputs": [
        {
          "output_type": "execute_result",
          "data": {
            "text/html": [
              "<div>\n",
              "<style scoped>\n",
              "    .dataframe tbody tr th:only-of-type {\n",
              "        vertical-align: middle;\n",
              "    }\n",
              "\n",
              "    .dataframe tbody tr th {\n",
              "        vertical-align: top;\n",
              "    }\n",
              "\n",
              "    .dataframe thead th {\n",
              "        text-align: right;\n",
              "    }\n",
              "</style>\n",
              "<table border=\"1\" class=\"dataframe\">\n",
              "  <thead>\n",
              "    <tr style=\"text-align: right;\">\n",
              "      <th></th>\n",
              "      <th>Roll No</th>\n",
              "      <th>Gender</th>\n",
              "      <th>Section</th>\n",
              "      <th>SSC Percentage</th>\n",
              "      <th>inter_Diploma_percentage</th>\n",
              "      <th>B.Tech</th>\n",
              "      <th>Backlogs</th>\n",
              "      <th>registered_for_ Placement_Training</th>\n",
              "      <th>placement status</th>\n",
              "    </tr>\n",
              "  </thead>\n",
              "  <tbody>\n",
              "    <tr>\n",
              "      <th>0</th>\n",
              "      <td>1</td>\n",
              "      <td>M</td>\n",
              "      <td>A</td>\n",
              "      <td>87.3</td>\n",
              "      <td>65.30</td>\n",
              "      <td>40.00</td>\n",
              "      <td>18</td>\n",
              "      <td>NO</td>\n",
              "      <td>Not placed</td>\n",
              "    </tr>\n",
              "    <tr>\n",
              "      <th>1</th>\n",
              "      <td>2</td>\n",
              "      <td>F</td>\n",
              "      <td>A</td>\n",
              "      <td>89.0</td>\n",
              "      <td>92.40</td>\n",
              "      <td>71.45</td>\n",
              "      <td>0</td>\n",
              "      <td>yes</td>\n",
              "      <td>Placed</td>\n",
              "    </tr>\n",
              "    <tr>\n",
              "      <th>2</th>\n",
              "      <td>3</td>\n",
              "      <td>F</td>\n",
              "      <td>A</td>\n",
              "      <td>67.0</td>\n",
              "      <td>68.00</td>\n",
              "      <td>45.26</td>\n",
              "      <td>13</td>\n",
              "      <td>yes</td>\n",
              "      <td>Not placed</td>\n",
              "    </tr>\n",
              "    <tr>\n",
              "      <th>3</th>\n",
              "      <td>4</td>\n",
              "      <td>M</td>\n",
              "      <td>A</td>\n",
              "      <td>71.0</td>\n",
              "      <td>70.40</td>\n",
              "      <td>36.47</td>\n",
              "      <td>17</td>\n",
              "      <td>yes</td>\n",
              "      <td>Not placed</td>\n",
              "    </tr>\n",
              "    <tr>\n",
              "      <th>4</th>\n",
              "      <td>5</td>\n",
              "      <td>M</td>\n",
              "      <td>A</td>\n",
              "      <td>67.0</td>\n",
              "      <td>65.50</td>\n",
              "      <td>42.52</td>\n",
              "      <td>17</td>\n",
              "      <td>yes</td>\n",
              "      <td>Not placed</td>\n",
              "    </tr>\n",
              "    <tr>\n",
              "      <th>...</th>\n",
              "      <td>...</td>\n",
              "      <td>...</td>\n",
              "      <td>...</td>\n",
              "      <td>...</td>\n",
              "      <td>...</td>\n",
              "      <td>...</td>\n",
              "      <td>...</td>\n",
              "      <td>...</td>\n",
              "      <td>...</td>\n",
              "    </tr>\n",
              "    <tr>\n",
              "      <th>112</th>\n",
              "      <td>113</td>\n",
              "      <td>M</td>\n",
              "      <td>B</td>\n",
              "      <td>81.1</td>\n",
              "      <td>78.60</td>\n",
              "      <td>35.84</td>\n",
              "      <td>16</td>\n",
              "      <td>NO</td>\n",
              "      <td>Not placed</td>\n",
              "    </tr>\n",
              "    <tr>\n",
              "      <th>113</th>\n",
              "      <td>114</td>\n",
              "      <td>M</td>\n",
              "      <td>B</td>\n",
              "      <td>81.3</td>\n",
              "      <td>85.12</td>\n",
              "      <td>68.50</td>\n",
              "      <td>0</td>\n",
              "      <td>NO</td>\n",
              "      <td>Not placed</td>\n",
              "    </tr>\n",
              "    <tr>\n",
              "      <th>114</th>\n",
              "      <td>115</td>\n",
              "      <td>M</td>\n",
              "      <td>B</td>\n",
              "      <td>83.5</td>\n",
              "      <td>89.90</td>\n",
              "      <td>76.30</td>\n",
              "      <td>0</td>\n",
              "      <td>NO</td>\n",
              "      <td>Not placed</td>\n",
              "    </tr>\n",
              "    <tr>\n",
              "      <th>115</th>\n",
              "      <td>116</td>\n",
              "      <td>M</td>\n",
              "      <td>B</td>\n",
              "      <td>85.5</td>\n",
              "      <td>90.63</td>\n",
              "      <td>74.50</td>\n",
              "      <td>0</td>\n",
              "      <td>NO</td>\n",
              "      <td>Not placed</td>\n",
              "    </tr>\n",
              "    <tr>\n",
              "      <th>116</th>\n",
              "      <td>117</td>\n",
              "      <td>M</td>\n",
              "      <td>B</td>\n",
              "      <td>80.0</td>\n",
              "      <td>83.33</td>\n",
              "      <td>65.53</td>\n",
              "      <td>0</td>\n",
              "      <td>NO</td>\n",
              "      <td>Not placed</td>\n",
              "    </tr>\n",
              "  </tbody>\n",
              "</table>\n",
              "<p>117 rows × 9 columns</p>\n",
              "</div>"
            ],
            "text/plain": [
              "     Roll No Gender  ... registered_for_ Placement_Training  placement status\n",
              "0          1      M  ...                                 NO        Not placed\n",
              "1          2      F  ...                                yes            Placed\n",
              "2          3      F  ...                                yes        Not placed\n",
              "3          4      M  ...                                yes        Not placed\n",
              "4          5      M  ...                                yes        Not placed\n",
              "..       ...    ...  ...                                ...               ...\n",
              "112      113      M  ...                                 NO        Not placed\n",
              "113      114      M  ...                                 NO        Not placed\n",
              "114      115      M  ...                                 NO        Not placed\n",
              "115      116      M  ...                                 NO        Not placed\n",
              "116      117      M  ...                                 NO        Not placed\n",
              "\n",
              "[117 rows x 9 columns]"
            ]
          },
          "metadata": {
            "tags": []
          },
          "execution_count": 16
        }
      ]
    },
    {
      "cell_type": "code",
      "metadata": {
        "id": "asKBB8t17n81",
        "colab_type": "code",
        "outputId": "7c6e03eb-0d7e-4c69-cb9a-dd0947d6a5c8",
        "colab": {
          "base_uri": "https://localhost:8080/",
          "height": 67
        }
      },
      "source": [
        "predicted_BTech_marks=model.predict(X_test)\n",
        "predicted_BTech_marks"
      ],
      "execution_count": 0,
      "outputs": [
        {
          "output_type": "execute_result",
          "data": {
            "text/plain": [
              "array([56.845, 76.575, 52.9  , 60.485, 61.85 , 47.64 , 67.59 , 57.51 ,\n",
              "       69.19 , 62.34 , 71.9  , 53.44 , 71.795, 75.545, 69.19 , 51.   ,\n",
              "       57.875, 57.365, 72.295, 67.59 , 71.025, 62.68 , 65.19 , 70.38 ])"
            ]
          },
          "metadata": {
            "tags": []
          },
          "execution_count": 17
        }
      ]
    },
    {
      "cell_type": "code",
      "metadata": {
        "id": "0EtMpiGL7_-9",
        "colab_type": "code",
        "outputId": "d7599bb2-e8db-4e11-aade-57cd2bdeb3b6",
        "colab": {
          "base_uri": "https://localhost:8080/",
          "height": 763
        }
      },
      "source": [
        "Actual_predicted=pd.DataFrame({\"Actual_B.Tech\": y_test, \"Predicted_B.Tech\": predicted_BTech_marks})\n",
        "Actual_predicted"
      ],
      "execution_count": 0,
      "outputs": [
        {
          "output_type": "execute_result",
          "data": {
            "text/html": [
              "<div>\n",
              "<style scoped>\n",
              "    .dataframe tbody tr th:only-of-type {\n",
              "        vertical-align: middle;\n",
              "    }\n",
              "\n",
              "    .dataframe tbody tr th {\n",
              "        vertical-align: top;\n",
              "    }\n",
              "\n",
              "    .dataframe thead th {\n",
              "        text-align: right;\n",
              "    }\n",
              "</style>\n",
              "<table border=\"1\" class=\"dataframe\">\n",
              "  <thead>\n",
              "    <tr style=\"text-align: right;\">\n",
              "      <th></th>\n",
              "      <th>Actual_B.Tech</th>\n",
              "      <th>Predicted_B.Tech</th>\n",
              "    </tr>\n",
              "  </thead>\n",
              "  <tbody>\n",
              "    <tr>\n",
              "      <th>10</th>\n",
              "      <td>71.49</td>\n",
              "      <td>56.845</td>\n",
              "    </tr>\n",
              "    <tr>\n",
              "      <th>59</th>\n",
              "      <td>81.10</td>\n",
              "      <td>76.575</td>\n",
              "    </tr>\n",
              "    <tr>\n",
              "      <th>95</th>\n",
              "      <td>62.98</td>\n",
              "      <td>52.900</td>\n",
              "    </tr>\n",
              "    <tr>\n",
              "      <th>91</th>\n",
              "      <td>68.70</td>\n",
              "      <td>60.485</td>\n",
              "    </tr>\n",
              "    <tr>\n",
              "      <th>7</th>\n",
              "      <td>61.02</td>\n",
              "      <td>61.850</td>\n",
              "    </tr>\n",
              "    <tr>\n",
              "      <th>86</th>\n",
              "      <td>60.53</td>\n",
              "      <td>47.640</td>\n",
              "    </tr>\n",
              "    <tr>\n",
              "      <th>26</th>\n",
              "      <td>61.00</td>\n",
              "      <td>67.590</td>\n",
              "    </tr>\n",
              "    <tr>\n",
              "      <th>112</th>\n",
              "      <td>35.84</td>\n",
              "      <td>57.510</td>\n",
              "    </tr>\n",
              "    <tr>\n",
              "      <th>22</th>\n",
              "      <td>68.30</td>\n",
              "      <td>69.190</td>\n",
              "    </tr>\n",
              "    <tr>\n",
              "      <th>94</th>\n",
              "      <td>69.62</td>\n",
              "      <td>62.340</td>\n",
              "    </tr>\n",
              "    <tr>\n",
              "      <th>101</th>\n",
              "      <td>83.38</td>\n",
              "      <td>71.900</td>\n",
              "    </tr>\n",
              "    <tr>\n",
              "      <th>2</th>\n",
              "      <td>45.26</td>\n",
              "      <td>53.440</td>\n",
              "    </tr>\n",
              "    <tr>\n",
              "      <th>50</th>\n",
              "      <td>78.00</td>\n",
              "      <td>71.795</td>\n",
              "    </tr>\n",
              "    <tr>\n",
              "      <th>24</th>\n",
              "      <td>54.18</td>\n",
              "      <td>75.545</td>\n",
              "    </tr>\n",
              "    <tr>\n",
              "      <th>116</th>\n",
              "      <td>65.53</td>\n",
              "      <td>69.190</td>\n",
              "    </tr>\n",
              "    <tr>\n",
              "      <th>62</th>\n",
              "      <td>52.00</td>\n",
              "      <td>51.000</td>\n",
              "    </tr>\n",
              "    <tr>\n",
              "      <th>93</th>\n",
              "      <td>51.00</td>\n",
              "      <td>57.875</td>\n",
              "    </tr>\n",
              "    <tr>\n",
              "      <th>74</th>\n",
              "      <td>73.13</td>\n",
              "      <td>57.365</td>\n",
              "    </tr>\n",
              "    <tr>\n",
              "      <th>61</th>\n",
              "      <td>74.30</td>\n",
              "      <td>72.295</td>\n",
              "    </tr>\n",
              "    <tr>\n",
              "      <th>73</th>\n",
              "      <td>63.41</td>\n",
              "      <td>67.590</td>\n",
              "    </tr>\n",
              "    <tr>\n",
              "      <th>16</th>\n",
              "      <td>70.01</td>\n",
              "      <td>71.025</td>\n",
              "    </tr>\n",
              "    <tr>\n",
              "      <th>108</th>\n",
              "      <td>55.70</td>\n",
              "      <td>62.680</td>\n",
              "    </tr>\n",
              "    <tr>\n",
              "      <th>13</th>\n",
              "      <td>74.96</td>\n",
              "      <td>65.190</td>\n",
              "    </tr>\n",
              "    <tr>\n",
              "      <th>43</th>\n",
              "      <td>70.85</td>\n",
              "      <td>70.380</td>\n",
              "    </tr>\n",
              "  </tbody>\n",
              "</table>\n",
              "</div>"
            ],
            "text/plain": [
              "     Actual_B.Tech  Predicted_B.Tech\n",
              "10           71.49            56.845\n",
              "59           81.10            76.575\n",
              "95           62.98            52.900\n",
              "91           68.70            60.485\n",
              "7            61.02            61.850\n",
              "86           60.53            47.640\n",
              "26           61.00            67.590\n",
              "112          35.84            57.510\n",
              "22           68.30            69.190\n",
              "94           69.62            62.340\n",
              "101          83.38            71.900\n",
              "2            45.26            53.440\n",
              "50           78.00            71.795\n",
              "24           54.18            75.545\n",
              "116          65.53            69.190\n",
              "62           52.00            51.000\n",
              "93           51.00            57.875\n",
              "74           73.13            57.365\n",
              "61           74.30            72.295\n",
              "73           63.41            67.590\n",
              "16           70.01            71.025\n",
              "108          55.70            62.680\n",
              "13           74.96            65.190\n",
              "43           70.85            70.380"
            ]
          },
          "metadata": {
            "tags": []
          },
          "execution_count": 18
        }
      ]
    },
    {
      "cell_type": "code",
      "metadata": {
        "id": "UxD9gaYTBxXj",
        "colab_type": "code",
        "outputId": "73772935-396b-4a61-be91-d6ec91680ff9",
        "colab": {
          "base_uri": "https://localhost:8080/",
          "height": 33
        }
      },
      "source": [
        "print('Mean Squared Error:', metrics.mean_squared_error(y_test, predicted_BTech_marks))"
      ],
      "execution_count": 0,
      "outputs": [
        {
          "output_type": "stream",
          "text": [
            "Mean Squared Error: 96.18642187499995\n"
          ],
          "name": "stdout"
        }
      ]
    },
    {
      "cell_type": "code",
      "metadata": {
        "id": "pIdHksYLCIs4",
        "colab_type": "code",
        "outputId": "2519cf39-283e-4cf9-fefc-8d80432b26ad",
        "colab": {
          "base_uri": "https://localhost:8080/",
          "height": 84
        }
      },
      "source": [
        "mse_val = [] \n",
        "for K in range(4): \n",
        "  K = K+1\n",
        "  model = KNeighborsRegressor(n_neighbors = K)\n",
        "  model.fit(X_train, y_train) \n",
        "  pred=model.predict(X_test) \n",
        "  error = metrics.mean_squared_error(y_test,pred) \n",
        "  mse_val.append(error) \n",
        "  print('MSE value for k= ' , K , 'is:', error)"
      ],
      "execution_count": 0,
      "outputs": [
        {
          "output_type": "stream",
          "text": [
            "MSE value for k=  1 is: 132.47814999999994\n",
            "MSE value for k=  2 is: 89.74335833333332\n",
            "MSE value for k=  3 is: 80.35485833333331\n",
            "MSE value for k=  4 is: 91.89184921875\n"
          ],
          "name": "stdout"
        }
      ]
    },
    {
      "cell_type": "code",
      "metadata": {
        "id": "gJnqPWcACgJ7",
        "colab_type": "code",
        "colab": {}
      },
      "source": [
        ""
      ],
      "execution_count": 0,
      "outputs": []
    }
  ]
}